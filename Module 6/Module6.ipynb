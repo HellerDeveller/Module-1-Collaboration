{
 "cells": [
  {
   "cell_type": "code",
   "execution_count": 1,
   "id": "902bb19e-d54a-4013-8fe9-9b6b978f7f9f",
   "metadata": {},
   "outputs": [],
   "source": [
    "# 13.1 + 13.2\n",
    "import time\n",
    "\n",
    "today_string = open('today.txt', 'r').read()"
   ]
  },
  {
   "cell_type": "code",
   "execution_count": 3,
   "id": "a944a755-3fd9-466f-a487-d7945bd08ca0",
   "metadata": {},
   "outputs": [
    {
     "data": {
      "text/plain": [
       "time.struct_time(tm_year=2024, tm_mon=11, tm_mday=26, tm_hour=0, tm_min=0, tm_sec=0, tm_wday=1, tm_yday=331, tm_isdst=-1)"
      ]
     },
     "execution_count": 3,
     "metadata": {},
     "output_type": "execute_result"
    }
   ],
   "source": [
    "# 13.3\n",
    "fmt = \"%m/%d/%Y\"\n",
    "time.strptime(today_string, fmt)"
   ]
  },
  {
   "cell_type": "code",
   "execution_count": 5,
   "id": "51f05970-36be-4f13-80c2-99cf011c446e",
   "metadata": {},
   "outputs": [
    {
     "name": "stdout",
     "output_type": "stream",
     "text": [
      "I'm Alex, and after 0.7973216423820408 seconds, it is now Tue Nov 26 19:39:36 2024\n",
      "I'm Barry, and after 0.2579390528722957 seconds, it is now Tue Nov 26 19:39:36 2024\n",
      "I'm Celica, and after 0.8103395405593807 seconds, it is now Tue Nov 26 19:39:37 2024\n"
     ]
    }
   ],
   "source": [
    "# 15.1\n",
    "import multiprocessing\n",
    "import random\n",
    "\n",
    "def axel():\n",
    "    wait = random.random()\n",
    "    time.sleep(wait)\n",
    "    print(f\"I'm Alex, and after {wait} seconds, it is now {time.ctime()}\")\n",
    "\n",
    "def barry():\n",
    "    wait = random.random()\n",
    "    time.sleep(wait)\n",
    "    print(f\"I'm Barry, and after {wait} seconds, it is now {time.ctime()}\")\n",
    "\n",
    "def celica():\n",
    "    wait = random.random()\n",
    "    time.sleep(wait)\n",
    "    print(f\"I'm Celica, and after {wait} seconds, it is now {time.ctime()}\")\n",
    "\n",
    "p1 = multiprocessing.Process(target=axel())\n",
    "p2 = multiprocessing.Process(target=barry())\n",
    "p3 = multiprocessing.Process(target=celica())\n",
    "\n",
    "p1.start()\n",
    "p2.start()\n",
    "p3.start()\n",
    "\n",
    "p1.join()\n",
    "p2.join()\n",
    "p3.join()"
   ]
  },
  {
   "cell_type": "code",
   "execution_count": null,
   "id": "56c8827d-1dd2-4653-b19c-523577a9bdc6",
   "metadata": {},
   "outputs": [],
   "source": []
  }
 ],
 "metadata": {
  "kernelspec": {
   "display_name": "Python 3 (ipykernel)",
   "language": "python",
   "name": "python3"
  },
  "language_info": {
   "codemirror_mode": {
    "name": "ipython",
    "version": 3
   },
   "file_extension": ".py",
   "mimetype": "text/x-python",
   "name": "python",
   "nbconvert_exporter": "python",
   "pygments_lexer": "ipython3",
   "version": "3.12.4"
  }
 },
 "nbformat": 4,
 "nbformat_minor": 5
}
