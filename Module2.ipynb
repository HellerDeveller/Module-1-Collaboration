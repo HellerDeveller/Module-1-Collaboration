{
 "cells": [
  {
   "cell_type": "code",
   "execution_count": 2,
   "id": "02a94d1f-a91b-40d7-af5e-be8f61fba1f3",
   "metadata": {},
   "outputs": [],
   "source": [
    "secret = 4\n",
    "guess = 9.765"
   ]
  },
  {
   "cell_type": "code",
   "execution_count": 4,
   "id": "1a4a03d5-e03b-4855-aab4-e1869ac8767c",
   "metadata": {},
   "outputs": [
    {
     "name": "stdout",
     "output_type": "stream",
     "text": [
      "too high\n"
     ]
    }
   ],
   "source": [
    "if guess > secret:\n",
    "    print('too high')\n",
    "elif guess < secret:\n",
    "    print('too low')\n",
    "else:\n",
    "    print('just right')"
   ]
  },
  {
   "cell_type": "code",
   "execution_count": 6,
   "id": "0a4f667d-662f-4d5c-91bd-3aa318aceb9c",
   "metadata": {},
   "outputs": [
    {
     "name": "stdout",
     "output_type": "stream",
     "text": [
      "watermelon\n"
     ]
    }
   ],
   "source": [
    "small = False\n",
    "green = True\n",
    "\n",
    "if small == True:\n",
    "    if green == True:\n",
    "        print('pea')\n",
    "    elif green == False:\n",
    "        print('cherry')\n",
    "elif small == False:\n",
    "    if green == True:\n",
    "        print('watermelon')\n",
    "    elif green == False:\n",
    "        print('pumpkin')"
   ]
  },
  {
   "cell_type": "code",
   "execution_count": 8,
   "id": "68d57d66-763f-44ba-92ed-fbeef63867e1",
   "metadata": {},
   "outputs": [
    {
     "name": "stdout",
     "output_type": "stream",
     "text": [
      "3\n",
      "2\n",
      "1\n",
      "0\n"
     ]
    }
   ],
   "source": [
    "for x in [3, 2, 1, 0]:\n",
    "    print(x)"
   ]
  },
  {
   "cell_type": "code",
   "execution_count": 10,
   "id": "706376ab-766a-4305-8fb2-e44bba7453a3",
   "metadata": {},
   "outputs": [
    {
     "name": "stdout",
     "output_type": "stream",
     "text": [
      "too low\n",
      "too low\n",
      "too low\n",
      "too low\n",
      "too low\n",
      "too low\n",
      "found it!\n"
     ]
    }
   ],
   "source": [
    "guess_me = 7\n",
    "number = 1\n",
    "\n",
    "while True:\n",
    "    if number < guess_me:\n",
    "        print('too low')\n",
    "    elif number == guess_me:\n",
    "        print('found it!')\n",
    "        break\n",
    "    else:\n",
    "        print('oops')\n",
    "        break\n",
    "    number += 1"
   ]
  },
  {
   "cell_type": "code",
   "execution_count": 12,
   "id": "599c38e3-aece-4c63-a284-002204f37086",
   "metadata": {},
   "outputs": [
    {
     "name": "stdout",
     "output_type": "stream",
     "text": [
      "too low\n",
      "too low\n",
      "too low\n",
      "too low\n",
      "too low\n",
      "found it!\n"
     ]
    }
   ],
   "source": [
    "guess_me = 5\n",
    "\n",
    "for number in range(10):\n",
    "    if number < guess_me:\n",
    "        print('too low')\n",
    "    elif number == guess_me:\n",
    "        print('found it!')\n",
    "        break\n",
    "    else:\n",
    "        print('oops')\n",
    "        break"
   ]
  },
  {
   "cell_type": "code",
   "execution_count": null,
   "id": "23d33a76-bdf3-4df8-8f5f-7a051523e0e4",
   "metadata": {},
   "outputs": [],
   "source": []
  }
 ],
 "metadata": {
  "kernelspec": {
   "display_name": "Python 3 (ipykernel)",
   "language": "python",
   "name": "python3"
  },
  "language_info": {
   "codemirror_mode": {
    "name": "ipython",
    "version": 3
   },
   "file_extension": ".py",
   "mimetype": "text/x-python",
   "name": "python",
   "nbconvert_exporter": "python",
   "pygments_lexer": "ipython3",
   "version": "3.12.4"
  }
 },
 "nbformat": 4,
 "nbformat_minor": 5
}
