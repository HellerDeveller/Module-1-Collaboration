{
 "cells": [
  {
   "cell_type": "code",
   "execution_count": 3,
   "id": "83b86ec8-acf4-49fb-8c6a-5860e41da79c",
   "metadata": {},
   "outputs": [
    {
     "data": {
      "text/plain": [
       "'Open 9-5 daily'"
      ]
     },
     "execution_count": 3,
     "metadata": {},
     "output_type": "execute_result"
    }
   ],
   "source": [
    "# 11.1\n",
    "import zoo\n",
    "zoo.hours()"
   ]
  },
  {
   "cell_type": "code",
   "execution_count": 27,
   "id": "f3a781d7-b755-4b7f-9c91-70a0882fde8e",
   "metadata": {},
   "outputs": [
    {
     "data": {
      "text/plain": [
       "'Open 9-5 daily'"
      ]
     },
     "execution_count": 27,
     "metadata": {},
     "output_type": "execute_result"
    }
   ],
   "source": [
    "# 11.2\n",
    "import zoo as menagerie\n",
    "menagerie.hours()"
   ]
  },
  {
   "cell_type": "code",
   "execution_count": 1,
   "id": "13ca0045-440a-44e4-b76a-18647c03c7e5",
   "metadata": {},
   "outputs": [
    {
     "name": "stdout",
     "output_type": "stream",
     "text": [
      "[('Book Cook', 'Dr. Muchtwo', 2003), ('Cook Book', 'Mr. Someone', 2002), ('Dook Look', 'Sr. Lessthree', 2004)]\n"
     ]
    }
   ],
   "source": [
    "# 16.8\n",
    "import sqlite3\n",
    "conn = sqlite3.connect('books.db')\n",
    "curs = conn.cursor()\n",
    "curs.execute('''CREATE TABLE books\n",
    "    (title VARCHAR(20) PRIMARY KEY,\n",
    "     author VARCHAR(20),\n",
    "     year INT)''')\n",
    "curs.execute('INSERT INTO books VALUES(\"Cook Book\", \"Mr. Someone\", 2002)')\n",
    "curs.execute('INSERT INTO books VALUES(\"Book Cook\", \"Dr. Muchtwo\", 2003)')\n",
    "curs.execute('INSERT INTO books VALUES(\"Dook Look\", \"Sr. Lessthree\", 2004)')\n",
    "curs.execute('SELECT * FROM books ORDER BY title')\n",
    "x = curs.fetchall()\n",
    "print(x)\n",
    "curs.close()\n",
    "conn.close()"
   ]
  },
  {
   "cell_type": "code",
   "execution_count": null,
   "id": "3a970fb2-87af-4c98-8333-967fba82bd01",
   "metadata": {},
   "outputs": [],
   "source": []
  }
 ],
 "metadata": {
  "kernelspec": {
   "display_name": "Python 3 (ipykernel)",
   "language": "python",
   "name": "python3"
  },
  "language_info": {
   "codemirror_mode": {
    "name": "ipython",
    "version": 3
   },
   "file_extension": ".py",
   "mimetype": "text/x-python",
   "name": "python",
   "nbconvert_exporter": "python",
   "pygments_lexer": "ipython3",
   "version": "3.12.4"
  }
 },
 "nbformat": 4,
 "nbformat_minor": 5
}
